<!DOCTYPE html>
<html lang="en">
<head>
    <meta charset="UTF-8">
    <meta name="viewport" content="width=device-width, initial-scale=1.0">
    <title>FitJoy App</title>
    <style>
        body {
            font-family: 'Arial', sans-serif;
            text-align: center;
            padding: 50px;
            background-color: #f7f7f7;
        }
        h1 {
            color: #4CAF50;
        }
        ul {
            list-style: none;
            padding: 0;
        }
        li {
            margin-bottom: 15px;
            font-size: 18px;
        }
    </style>
</head>
<body>
    <h1>FitJoy App</h1>
    <p>Features:</p>
    <ul id="featuresList"></ul>

    <!-- New section for user registration and data submission -->
    <p>User Registration:</p>
    <form id="userForm">
        <label for="userId">User ID:</label>
        <input type="text" id="userId" name="userId" required>
        <br>
        <label for="username">Username:</label>
        <input type="text" id="username" name="username" required>
        <br>
        <button type="submit">Register</button>
    </form>

    <script>
        document.addEventListener("DOMContentLoaded", function() {
            // Simplified fetch without a backend URL
            const featuresList = document.getElementById("featuresList");
            const features = {
                "fitness_goals": "Set and track personalized fitness goals.",
                "workout_routines": "Access diverse workout routines for all fitness levels.",
                "nutrition_recommendations": "Receive tailored nutrition recommendations.",
                "social_elements": "Connect with friends, share achievements, and join fitness challenges.",
                "positive_mindset": "Promote a positive mindset by celebrating progress and fostering a supportive community.",
                "user_authentication": "Register and log in to save and track your fitness journey.",
                "personalized_workouts": "Get personalized workout recommendations based on your fitness level and preferences.",
                "progress_tracking": "Track your fitness progress over time.",
            };

            Object.entries(features).forEach(([feature, description]) => {
                const listItem = document.createElement("li");
                listItem.textContent = `${feature}: ${description}`;
                featuresList.appendChild(listItem);
            });

            // Remove the user registration form fetch section since we are not submitting data anywhere.
        });
    </script>
</body>
</html>
